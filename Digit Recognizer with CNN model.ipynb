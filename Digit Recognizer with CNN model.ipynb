{
  "nbformat": 4,
  "nbformat_minor": 0,
  "metadata": {
    "colab": {
      "name": "Digit Recognizer with CNN model.ipynb",
      "provenance": []
    },
    "kernelspec": {
      "name": "python3",
      "display_name": "Python 3"
    }
  },
  "cells": [
    {
      "cell_type": "code",
      "metadata": {
        "id": "Nl7QQbfqjvrW",
        "colab_type": "code",
        "colab": {
          "base_uri": "https://localhost:8080/",
          "height": 35
        },
        "outputId": "0a772220-26c8-4bc7-f8c7-ab021ce8a956"
      },
      "source": [
        "import tensorflow as tf\n",
        "import numpy as np\n",
        "from matplotlib import pyplot as plt\n",
        "print(tf.__version__)"
      ],
      "execution_count": 1,
      "outputs": [
        {
          "output_type": "stream",
          "text": [
            "2.3.0\n"
          ],
          "name": "stdout"
        }
      ]
    },
    {
      "cell_type": "code",
      "metadata": {
        "id": "m75BgEFtkZHo",
        "colab_type": "code",
        "colab": {
          "base_uri": "https://localhost:8080/",
          "height": 387
        },
        "outputId": "81aa458a-1f07-477f-a308-843de164c44b"
      },
      "source": [
        "(x_train, y_train), (x_test, y_test) = tf.keras.datasets.mnist.load_data()\n",
        "print('train:', x_train.shape, y_train.shape)\n",
        "print('test:', x_test.shape, y_test.shape)\n",
        "print('y train:', y_train[:10])\n",
        "print('y test:', y_test[:10])\n",
        "\n",
        "plt.imshow(x_train[0, :, :])"
      ],
      "execution_count": 2,
      "outputs": [
        {
          "output_type": "stream",
          "text": [
            "Downloading data from https://storage.googleapis.com/tensorflow/tf-keras-datasets/mnist.npz\n",
            "11493376/11490434 [==============================] - 0s 0us/step\n",
            "train: (60000, 28, 28) (60000,)\n",
            "test: (10000, 28, 28) (10000,)\n",
            "y train: [5 0 4 1 9 2 1 3 1 4]\n",
            "y test: [7 2 1 0 4 1 4 9 5 9]\n"
          ],
          "name": "stdout"
        },
        {
          "output_type": "execute_result",
          "data": {
            "text/plain": [
              "<matplotlib.image.AxesImage at 0x7fcaafd82b00>"
            ]
          },
          "metadata": {
            "tags": []
          },
          "execution_count": 2
        },
        {
          "output_type": "display_data",
          "data": {
            "image/png": "[encoded data removed]",
            "text/plain": [
              "<Figure size 432x288 with 1 Axes>"
            ]
          },
          "metadata": {
            "tags": [],
            "needs_background": "light"
          }
        }
      ]
    },
    {
      "cell_type": "code",
      "metadata": {
        "id": "68R02bLzlb-G",
        "colab_type": "code",
        "colab": {
          "base_uri": "https://localhost:8080/",
          "height": 191
        },
        "outputId": "4a84ab57-10bb-40e6-99fe-138add116600"
      },
      "source": [
        "def list_to_onehot(x, num_class=10):\n",
        "  onehot = np.zeros([x.shape[0], num_class], dtype=np.float64)\n",
        "  onehot[np.arange(x.shape[0]), x] = 1.0\n",
        "  return onehot\n",
        "\n",
        "def split_train_val(x, y, rate_train=0.7):\n",
        "  indices = np.arange(x.shape[0])\n",
        "  np.random.shuffle(indices)\n",
        "  i = int(x.shape[0]*rate_train)\n",
        "  return (x[indices[:i]], y[indices[:i]]), (x[indices[i:]], y[indices[i:]])\n",
        "\n",
        "preprocess_samples = lambda x : x / 255.\n",
        "\n",
        "(x_train, y_train), (x_val, y_val) = split_train_val(x_train, y_train)\n",
        "x_train = preprocess_samples(x_train)\n",
        "x_val = preprocess_samples(x_val)\n",
        "x_test = preprocess_samples(x_test)\n",
        "\n",
        "x_train = np.expand_dims(x_train, axis=-1)\n",
        "x_val = np.expand_dims(x_val, axis=-1)\n",
        "x_test = np.expand_dims(x_test, axis=-1)\n",
        "\n",
        "y_train = list_to_onehot(y_train)\n",
        "y_val = list_to_onehot(y_val)\n",
        "y_test = list_to_onehot(y_test)\n",
        "for it in y_train[:10]:\n",
        "  print(it)"
      ],
      "execution_count": 3,
      "outputs": [
        {
          "output_type": "stream",
          "text": [
            "[0. 0. 1. 0. 0. 0. 0. 0. 0. 0.]\n",
            "[0. 0. 0. 0. 0. 0. 0. 0. 1. 0.]\n",
            "[0. 1. 0. 0. 0. 0. 0. 0. 0. 0.]\n",
            "[0. 0. 0. 1. 0. 0. 0. 0. 0. 0.]\n",
            "[0. 0. 0. 0. 0. 0. 0. 1. 0. 0.]\n",
            "[0. 0. 0. 0. 0. 0. 0. 0. 1. 0.]\n",
            "[0. 0. 0. 0. 0. 1. 0. 0. 0. 0.]\n",
            "[0. 0. 0. 1. 0. 0. 0. 0. 0. 0.]\n",
            "[0. 0. 0. 0. 0. 0. 0. 0. 1. 0.]\n",
            "[0. 0. 0. 0. 0. 1. 0. 0. 0. 0.]\n"
          ],
          "name": "stdout"
        }
      ]
    },
    {
      "cell_type": "code",
      "metadata": {
        "id": "KPDxds1jnluD",
        "colab_type": "code",
        "colab": {
          "base_uri": "https://localhost:8080/",
          "height": 468
        },
        "outputId": "6065730f-a898-416a-ad4a-76a2e27d711d"
      },
      "source": [
        "model = tf.keras.models.Sequential(name='simple_cnn')\n",
        "model.add(tf.keras.layers.Conv2D(16, (3, 3), activation='relu', padding='same', input_shape=(28, 28, 1)))\n",
        "model.add(tf.keras.layers.MaxPooling2D((2, 2)))\n",
        "model.add(tf.keras.layers.Conv2D(32, (3, 3), activation='relu', padding='same'))\n",
        "model.add(tf.keras.layers.MaxPooling2D((2, 2)))\n",
        "model.add(tf.keras.layers.Flatten())\n",
        "model.add(tf.keras.layers.Dense(256, activation='relu'))\n",
        "model.add(tf.keras.layers.Dropout(0.5))\n",
        "model.add(tf.keras.layers.Dense(10, activation='relu'))\n",
        "model.add(tf.keras.layers.Softmax())\n",
        "model.summary()\n",
        "\n",
        "model.compile(loss=tf.keras.losses.CategoricalCrossentropy(),\n",
        "              optimizer=tf.keras.optimizers.Adam(),\n",
        "              metrics=['accuracy'])"
      ],
      "execution_count": 9,
      "outputs": [
        {
          "output_type": "stream",
          "text": [
            "Model: \"simple_cnn\"\n",
            "_________________________________________________________________\n",
            "Layer (type)                 Output Shape              Param #   \n",
            "=================================================================\n",
            "conv2d (Conv2D)              (None, 28, 28, 16)        160       \n",
            "_________________________________________________________________\n",
            "max_pooling2d (MaxPooling2D) (None, 14, 14, 16)        0         \n",
            "_________________________________________________________________\n",
            "conv2d_1 (Conv2D)            (None, 14, 14, 32)        4640      \n",
            "_________________________________________________________________\n",
            "max_pooling2d_1 (MaxPooling2 (None, 7, 7, 32)          0         \n",
            "_________________________________________________________________\n",
            "flatten_3 (Flatten)          (None, 1568)              0         \n",
            "_________________________________________________________________\n",
            "dense_3 (Dense)              (None, 256)               401664    \n",
            "_________________________________________________________________\n",
            "dropout_2 (Dropout)          (None, 256)               0         \n",
            "_________________________________________________________________\n",
            "dense_4 (Dense)              (None, 10)                2570      \n",
            "_________________________________________________________________\n",
            "softmax_1 (Softmax)          (None, 10)                0         \n",
            "=================================================================\n",
            "Total params: 409,034\n",
            "Trainable params: 409,034\n",
            "Non-trainable params: 0\n",
            "_________________________________________________________________\n"
          ],
          "name": "stdout"
        }
      ]
    },
    {
      "cell_type": "code",
      "metadata": {
        "id": "ReKaPv28opW-",
        "colab_type": "code",
        "colab": {
          "base_uri": "https://localhost:8080/",
          "height": 572
        },
        "outputId": "8539a3ca-2b25-41c8-ed98-222098cefb87"
      },
      "source": [
        "history = model.fit(x_train,\n",
        "                    y_train,\n",
        "                    batch_size=128,\n",
        "                    epochs=16,\n",
        "                    verbose=1,\n",
        "                    validation_data=(x_val, y_val))"
      ],
      "execution_count": 10,
      "outputs": [
        {
          "output_type": "stream",
          "text": [
            "Epoch 1/16\n",
            "329/329 [==============================] - 29s 89ms/step - loss: 0.3912 - accuracy: 0.8795 - val_loss: 0.1086 - val_accuracy: 0.9674\n",
            "Epoch 2/16\n",
            "329/329 [==============================] - 30s 92ms/step - loss: 0.1129 - accuracy: 0.9645 - val_loss: 0.0717 - val_accuracy: 0.9782\n",
            "Epoch 3/16\n",
            "329/329 [==============================] - 29s 88ms/step - loss: 0.0857 - accuracy: 0.9746 - val_loss: 0.0644 - val_accuracy: 0.9808\n",
            "Epoch 4/16\n",
            "329/329 [==============================] - 29s 89ms/step - loss: 0.0667 - accuracy: 0.9799 - val_loss: 0.0613 - val_accuracy: 0.9817\n",
            "Epoch 5/16\n",
            "329/329 [==============================] - 29s 89ms/step - loss: 0.0576 - accuracy: 0.9826 - val_loss: 0.0508 - val_accuracy: 0.9844\n",
            "Epoch 6/16\n",
            "329/329 [==============================] - 29s 89ms/step - loss: 0.0482 - accuracy: 0.9848 - val_loss: 0.0479 - val_accuracy: 0.9857\n",
            "Epoch 7/16\n",
            "329/329 [==============================] - 29s 88ms/step - loss: 0.0415 - accuracy: 0.9866 - val_loss: 0.0464 - val_accuracy: 0.9861\n",
            "Epoch 8/16\n",
            "329/329 [==============================] - 32s 96ms/step - loss: 0.0381 - accuracy: 0.9880 - val_loss: 0.0461 - val_accuracy: 0.9865\n",
            "Epoch 9/16\n",
            "329/329 [==============================] - 29s 88ms/step - loss: 0.0330 - accuracy: 0.9898 - val_loss: 0.0429 - val_accuracy: 0.9880\n",
            "Epoch 10/16\n",
            "329/329 [==============================] - 29s 88ms/step - loss: 0.0289 - accuracy: 0.9906 - val_loss: 0.0404 - val_accuracy: 0.9884\n",
            "Epoch 11/16\n",
            "329/329 [==============================] - 29s 88ms/step - loss: 0.0270 - accuracy: 0.9911 - val_loss: 0.0413 - val_accuracy: 0.9882\n",
            "Epoch 12/16\n",
            "329/329 [==============================] - 29s 88ms/step - loss: 0.0262 - accuracy: 0.9915 - val_loss: 0.0442 - val_accuracy: 0.9884\n",
            "Epoch 13/16\n",
            "329/329 [==============================] - 29s 89ms/step - loss: 0.0229 - accuracy: 0.9921 - val_loss: 0.0464 - val_accuracy: 0.9887\n",
            "Epoch 14/16\n",
            "329/329 [==============================] - 28s 86ms/step - loss: 0.0207 - accuracy: 0.9933 - val_loss: 0.0455 - val_accuracy: 0.9871\n",
            "Epoch 15/16\n",
            "329/329 [==============================] - 28s 86ms/step - loss: 0.0199 - accuracy: 0.9936 - val_loss: 0.0431 - val_accuracy: 0.9888\n",
            "Epoch 16/16\n",
            "329/329 [==============================] - 28s 86ms/step - loss: 0.0190 - accuracy: 0.9938 - val_loss: 0.0436 - val_accuracy: 0.9886\n"
          ],
          "name": "stdout"
        }
      ]
    },
    {
      "cell_type": "code",
      "metadata": {
        "id": "iZYpGT6npLZw",
        "colab_type": "code",
        "colab": {
          "base_uri": "https://localhost:8080/",
          "height": 35
        },
        "outputId": "25c00294-7061-432d-d284-3a1fee61c470"
      },
      "source": [
        "results = model.evaluate(x_test, y_test)"
      ],
      "execution_count": 11,
      "outputs": [
        {
          "output_type": "stream",
          "text": [
            "313/313 [==============================] - 3s 10ms/step - loss: 0.0306 - accuracy: 0.9912\n"
          ],
          "name": "stdout"
        }
      ]
    }
  ]
}